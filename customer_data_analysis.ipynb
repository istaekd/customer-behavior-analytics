{
 "cells": [
  {
   "cell_type": "code",
   "execution_count": 19,
   "id": "5a22dd1e",
   "metadata": {},
   "outputs": [],
   "source": [
    "import numpy as np\n",
    "import pandas as pd\n",
    "import matplotlib.pyplot as plt\n",
    "\n",
    "df = pd.read_csv(\"data/dataset.csv\")"
   ]
  },
  {
   "cell_type": "code",
   "execution_count": 88,
   "id": "0dff7e7c",
   "metadata": {},
   "outputs": [
    {
     "name": "stdout",
     "output_type": "stream",
     "text": [
      "   no         city  total_purchased  total_not_purchased\n",
      "0   1      Chicago               53                   49\n",
      "1   2      Houston               48                   40\n",
      "2   3  Los Angeles               54                   45\n",
      "3   4     New York               55                   53\n",
      "4   5      Phoenix               57                   46\n"
     ]
    }
   ],
   "source": [
    "purchased_df = df[df[\"Purchased\"] == 1]\n",
    "purchased_in_city = purchased_df.groupby(\"City\")[\"Purchased\"].count().reset_index()\n",
    "purchased_in_city.columns = [\"city\", \"total_purchased\"]\n",
    "\n",
    "not_purchased_df = df[df[\"Purchased\"] == 0]\n",
    "not_purchased_in_city = not_purchased_df.groupby(\"City\")[\"Purchased\"].count().reset_index()\n",
    "not_purchased_in_city.columns = [\"city\", \"total_not_purchased\"]\n",
    "\n",
    "purchase_analysis_in_city = pd.merge(purchased_in_city, not_purchased_in_city, on=\"city\")\n",
    "purchase_analysis_in_city.insert(0, \"no\", range(1, len(purchase_analysis_in_city)+1))\n",
    "print(purchase_analysis_in_city)"
   ]
  },
  {
   "cell_type": "code",
   "execution_count": 84,
   "id": "d37ed48e",
   "metadata": {},
   "outputs": [
    {
     "name": "stdout",
     "output_type": "stream",
     "text": [
      "   no         city  total_purchased\n",
      "0   1      Chicago               53\n",
      "1   2      Houston               48\n",
      "2   3  Los Angeles               54\n",
      "3   4     New York               55\n",
      "4   5      Phoenix               57\n"
     ]
    }
   ],
   "source": [
    "print(purchased_in_city)"
   ]
  }
 ],
 "metadata": {
  "kernelspec": {
   "display_name": "venv",
   "language": "python",
   "name": "python3"
  },
  "language_info": {
   "codemirror_mode": {
    "name": "ipython",
    "version": 3
   },
   "file_extension": ".py",
   "mimetype": "text/x-python",
   "name": "python",
   "nbconvert_exporter": "python",
   "pygments_lexer": "ipython3",
   "version": "3.12.3"
  }
 },
 "nbformat": 4,
 "nbformat_minor": 5
}
